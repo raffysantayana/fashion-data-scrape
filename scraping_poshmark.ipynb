{
 "cells": [
  {
   "cell_type": "markdown",
   "metadata": {},
   "source": [
    "# Scraping Poshmark for Recent Postings\n",
    "### _Date of Scrape: May 28, 2020_"
   ]
  },
  {
   "cell_type": "markdown",
   "metadata": {},
   "source": [
    "### Imports"
   ]
  },
  {
   "cell_type": "code",
   "execution_count": 1,
   "metadata": {
    "ExecuteTime": {
     "end_time": "2020-05-29T02:19:05.773207Z",
     "start_time": "2020-05-29T02:19:03.805093Z"
    }
   },
   "outputs": [],
   "source": [
    "from requests import get\n",
    "from bs4 import BeautifulSoup\n",
    "import pandas as pd\n",
    "import numpy as np"
   ]
  },
  {
   "cell_type": "markdown",
   "metadata": {},
   "source": [
    "### Poshmark - Men"
   ]
  },
  {
   "cell_type": "code",
   "execution_count": 2,
   "metadata": {
    "ExecuteTime": {
     "end_time": "2020-05-29T02:19:06.889719Z",
     "start_time": "2020-05-29T02:19:05.776639Z"
    }
   },
   "outputs": [
    {
     "name": "stdout",
     "output_type": "stream",
     "text": [
      "200\n"
     ]
    }
   ],
   "source": [
    "base_url = 'https://poshmark.com/category/Men'\n",
    "res = get(base_url)\n",
    "print(res.status_code)"
   ]
  },
  {
   "cell_type": "code",
   "execution_count": 17,
   "metadata": {
    "ExecuteTime": {
     "end_time": "2020-05-29T02:29:12.765473Z",
     "start_time": "2020-05-29T02:29:12.759350Z"
    }
   },
   "outputs": [],
   "source": [
    "def get_page(url):\n",
    "    res = get(base_url)\n",
    "    if res.status_code == 200:\n",
    "        return res\n",
    "    else:\n",
    "        return res.status_code"
   ]
  },
  {
   "cell_type": "code",
   "execution_count": null,
   "metadata": {
    "ExecuteTime": {
     "end_time": "2020-05-29T02:19:07.169747Z",
     "start_time": "2020-05-29T02:19:06.893810Z"
    }
   },
   "outputs": [],
   "source": [
    "soup = BeautifulSoup(res.text)\n",
    "\n",
    "# Create a list off all div containers that have a class of 'tile'\n",
    "# These are the boxes that represent a single item when browsing the site\n",
    "tiles = soup.find_all('div', class_ = 'tile')\n",
    "print(len(tiles))"
   ]
  },
  {
   "cell_type": "markdown",
   "metadata": {},
   "source": [
    "Poshmark definitely has more than 48 pieces for sale on their site. The reason why we have only captured 48 is because that is the amount of tiles that are initially loaded to the page. You may get a different number, but the reason is the same.\n",
    "\n",
    "The initial scrape is limited to how many tiles are initially loaded.\n",
    "\n",
    "For now, we will worry about being able to put values into a Pandas dataframe. Getting more observations will be a problem to tackle for tomorrow."
   ]
  },
  {
   "cell_type": "markdown",
   "metadata": {},
   "source": [
    "#### Extracting Values\n",
    "https://www.tablesgenerator.com/markdown_tables#\n",
    "\n",
    "Want to also scrape the time it was posted, but this requires me to go into the Page URL to grab that info. Same case for color. Another day.\n",
    "\n",
    "|   Column  | dtype |                  Example Values                  |       Description      |\n",
    "|:---------:|:-----:|:------------------------------------------------:|:----------------------:|\n",
    "|   Title   |  str  | Men's New Balance Revlite 1550 Army Green size 9 |  Title given by seller |\n",
    "| Seller    | str   | example_username                                 | Username of seller     |\n",
    "|   Price   |  int  |                        $25                       | Asking price by seller |\n",
    "|    Size   |  str  |                                                  |                        |\n",
    "|   Brand   |  str  |                                                  |                        |\n",
    "|  Page URL |  str  |                                                  |                        |\n",
    "| Image URL |  str  |                                                  |                        |"
   ]
  },
  {
   "cell_type": "code",
   "execution_count": 4,
   "metadata": {
    "ExecuteTime": {
     "end_time": "2020-05-29T02:19:07.180637Z",
     "start_time": "2020-05-29T02:19:07.173056Z"
    }
   },
   "outputs": [
    {
     "name": "stdout",
     "output_type": "stream",
     "text": [
      "<div class=\"tile col-x12 col-l6 col-s8\">\n",
      " <div class=\"card card--small\">\n",
      "  <a class=\"tile__covershot\" data-et-element-type=\"image\" data-et-name=\"listing\" data-et-prop-listing_id=\"5ea49b5888cce33ce1cf3a07\" data-et-prop-location=\"listing_tile\" data-et-prop-unit_position=\"0\" href=\"/listing/Orange-AMerican-Eagle-hoodie-5ea49b5888cce33ce1cf3a07\">\n",
      "   <div class=\"img__container img__container--square\">\n",
      "    <img alt=\"Orange AMerican Eagle hoodie\" data-src=\"https://di2ponv0v5otw.cloudfront.net/posts/2020/04/25/5ea49b5888cce33ce1cf3a07/s_5ea49b6ecb692c6ec7629658.jpg\" src=\"https://di2ponv0v5otw.cloudfront.net/posts/2020/04/25/5ea49b5888cce33ce1cf3a07/s_5ea49b6ecb692c6ec7629658.jpg\"/>\n",
      "   </div>\n",
      "   <!-- -->\n",
      "  </a>\n",
      "  <div class=\"item__details\">\n",
      "   <div class=\"title__condition__container\">\n",
      "    <a class=\"tile__title tc--b\" data-et-element-type=\"link\" data-et-name=\"listing\" data-et-prop-listing_id=\"5ea49b5888cce33ce1cf3a07\" data-et-prop-location=\"listing_tile\" data-et-prop-unit_position=\"0\" href=\"/listing/Orange-AMerican-Eagle-hoodie-5ea49b5888cce33ce1cf3a07\">\n",
      "     Orange AMerican Eagle hoodie\n",
      "    </a>\n",
      "    <!-- -->\n",
      "   </div>\n",
      "   <div class=\"m--t--1\">\n",
      "    <span class=\"p--t--1 fw--bold\">\n",
      "     $23\n",
      "    </span>\n",
      "    <span class=\"p--l--1 tc--lg td--lt\">\n",
      "     $50\n",
      "    </span>\n",
      "   </div>\n",
      "   <div class=\"m--t--1\">\n",
      "    <a class=\"tile__details__pipe__size ellipses\" href=\"/category/Men-Shirts?size=XXL\">\n",
      "     Size: XXL\n",
      "    </a>\n",
      "    <a class=\"tile__details__pipe__brand ellipses\" data-et-name=\"listing_brand\" data-et-prop-location=\"listing_tile\" href=\"/brand/American_Eagle_Outfitters\" style=\"width:calc(100% - 10ch);\">\n",
      "     American Eagle Outfitters\n",
      "    </a>\n",
      "   </div>\n",
      "  </div>\n",
      "  <a class=\"tile__creator\" data-et-name=\"seller\" data-et-prop-location=\"listing_tile\" href=\"/closet/michyxx3\">\n",
      "   <img alt=\"michyxx3\" class=\"user-image user-image--xs\" src=\"https://dtpmhvbsmffsz.cloudfront.net/users/2017/04/10/54b55543fb666a5bac022ea5/t_58ec4620f8a073ec33162926.jpg\"/>\n",
      "   <span class=\"tc--g m--l--1\">\n",
      "    michyxx3\n",
      "   </span>\n",
      "  </a>\n",
      "  <div class=\"social-action-bar tile__social-actions\">\n",
      "   <div class=\"d--fl ai--c cursor--pointer social-action-bar__action social-action-bar__like\" data-et-element-type=\"button\" data-et-name=\"like\" data-et-prop-listing_id=\"5ea49b5888cce33ce1cf3a07\">\n",
      "    <i class=\"icon as--c like btn__icon\">\n",
      "    </i>\n",
      "    <!-- -->\n",
      "    <span>\n",
      "     9\n",
      "    </span>\n",
      "   </div>\n",
      "   <a class=\"social-action-bar__action social-action-bar__comment\" data-et-element-type=\"button\" data-et-name=\"comment\" data-et-prop-listing_id=\"5ea49b5888cce33ce1cf3a07\">\n",
      "    <i class=\"icon comment-gray btn__icon\">\n",
      "    </i>\n",
      "    <!-- -->\n",
      "   </a>\n",
      "   <div class=\"d--fl ai--c social-action-bar__action social-action-bar__share\" data-et-element-type=\"button\" data-et-name=\"share\" data-et-prop-listing_id=\"5ea49b5888cce33ce1cf3a07\">\n",
      "    <i class=\"icon share-gray-large\">\n",
      "    </i>\n",
      "    <!-- -->\n",
      "   </div>\n",
      "  </div>\n",
      " </div>\n",
      "</div>\n",
      "\n"
     ]
    }
   ],
   "source": [
    "# For the sake of demonstration for myself, I will be extracting values from a single tile\n",
    "ex_tile = tiles[0]\n",
    "print(ex_tile.prettify())"
   ]
  },
  {
   "cell_type": "code",
   "execution_count": 5,
   "metadata": {
    "ExecuteTime": {
     "end_time": "2020-05-29T02:19:07.189657Z",
     "start_time": "2020-05-29T02:19:07.182781Z"
    }
   },
   "outputs": [
    {
     "name": "stdout",
     "output_type": "stream",
     "text": [
      "<a class=\"tile__covershot\" data-et-element-type=\"image\" data-et-name=\"listing\" data-et-prop-listing_id=\"5ea49b5888cce33ce1cf3a07\" data-et-prop-location=\"listing_tile\" data-et-prop-unit_position=\"0\" href=\"/listing/Orange-AMerican-Eagle-hoodie-5ea49b5888cce33ce1cf3a07\">\n",
      " <div class=\"img__container img__container--square\">\n",
      "  <img alt=\"Orange AMerican Eagle hoodie\" data-src=\"https://di2ponv0v5otw.cloudfront.net/posts/2020/04/25/5ea49b5888cce33ce1cf3a07/s_5ea49b6ecb692c6ec7629658.jpg\" src=\"https://di2ponv0v5otw.cloudfront.net/posts/2020/04/25/5ea49b5888cce33ce1cf3a07/s_5ea49b6ecb692c6ec7629658.jpg\"/>\n",
      " </div>\n",
      " <!-- -->\n",
      "</a>\n",
      "\n"
     ]
    }
   ],
   "source": [
    "print(ex_tile.find_all('a', attrs = {\n",
    "    'data-et-element-type': 'image'\n",
    "})[0].prettify())"
   ]
  },
  {
   "cell_type": "markdown",
   "metadata": {},
   "source": [
    "##### Title and Page URL\n",
    "\n",
    "Since the title of the post and the link to post is in the same tag, we will grab both in the same cell below."
   ]
  },
  {
   "cell_type": "code",
   "execution_count": 18,
   "metadata": {
    "ExecuteTime": {
     "end_time": "2020-05-29T02:41:54.406876Z",
     "start_time": "2020-05-29T02:41:54.381593Z"
    },
    "scrolled": true
   },
   "outputs": [
    {
     "name": "stdout",
     "output_type": "stream",
     "text": [
      "title: Orange AMerican Eagle hoodie\n",
      "page url: https://www.poshmark.com/listing/Orange-AMerican-Eagle-hoodie-5ea49b5888cce33ce1cf3a07\n"
     ]
    }
   ],
   "source": [
    "# Find the first instance of an a tag with the 'tile__title' class.\n",
    "# Then strip all leading and trailing whitespace from the resulting text.\n",
    "ex_title_pageurl = ex_tile.find('a', class_ = 'tile__title')\n",
    "ex_title = ex_title_pageurl.get_text(strip = True)\n",
    "ex_page_url = ex_title_pageurl.get('href')\n",
    "print(f'title: {ex_title}')\n",
    "print(f'page url: https://www.poshmark.com{ex_page_url}')"
   ]
  },
  {
   "cell_type": "code",
   "execution_count": 48,
   "metadata": {
    "ExecuteTime": {
     "end_time": "2020-05-29T03:12:59.363565Z",
     "start_time": "2020-05-29T03:12:59.347633Z"
    }
   },
   "outputs": [
    {
     "data": {
      "text/plain": [
       "'Orange AMerican Eagle hoodie'"
      ]
     },
     "execution_count": 48,
     "metadata": {},
     "output_type": "execute_result"
    }
   ],
   "source": [
    "def get_title(tile):\n",
    "    try:\n",
    "        title = tile.find('a', class_ = 'tile__title').get_text(strip = True)\n",
    "        return title\n",
    "    except:\n",
    "        return None\n",
    "\n",
    "get_title(ex_tile)"
   ]
  },
  {
   "cell_type": "code",
   "execution_count": 49,
   "metadata": {
    "ExecuteTime": {
     "end_time": "2020-05-29T03:13:15.315266Z",
     "start_time": "2020-05-29T03:13:15.304591Z"
    }
   },
   "outputs": [
    {
     "data": {
      "text/plain": [
       "'/listing/Orange-AMerican-Eagle-hoodie-5ea49b5888cce33ce1cf3a07'"
      ]
     },
     "execution_count": 49,
     "metadata": {},
     "output_type": "execute_result"
    }
   ],
   "source": [
    "def get_page_url(tile):\n",
    "    \"Get's the URL of the item. Is preceeded by 'www.poshmark.com'\"\n",
    "    try:\n",
    "        return tile.find('a', class_ = 'tile__title').get('href')\n",
    "    except:\n",
    "        None\n",
    "        \n",
    "get_page_url(ex_tile)"
   ]
  },
  {
   "cell_type": "markdown",
   "metadata": {},
   "source": [
    "##### Seller"
   ]
  },
  {
   "cell_type": "code",
   "execution_count": 12,
   "metadata": {
    "ExecuteTime": {
     "end_time": "2020-05-29T02:22:13.356955Z",
     "start_time": "2020-05-29T02:22:13.350348Z"
    }
   },
   "outputs": [
    {
     "name": "stdout",
     "output_type": "stream",
     "text": [
      "michyxx3\n"
     ]
    }
   ],
   "source": [
    "ex_seller = ex_tile.find('span', class_ = 'tc--g m--l--1').get_text(strip = True)\n",
    "print(ex_seller)"
   ]
  },
  {
   "cell_type": "code",
   "execution_count": 50,
   "metadata": {
    "ExecuteTime": {
     "end_time": "2020-05-29T03:13:36.491762Z",
     "start_time": "2020-05-29T03:13:36.480378Z"
    }
   },
   "outputs": [
    {
     "data": {
      "text/plain": [
       "'michyxx3'"
      ]
     },
     "execution_count": 50,
     "metadata": {},
     "output_type": "execute_result"
    }
   ],
   "source": [
    "def get_seller(tile):\n",
    "    try:\n",
    "        return tile.find('span', class_ = 'tc--g m--l--1').get_text(strip = True)\n",
    "    except:\n",
    "        return None\n",
    "\n",
    "get_seller(ex_tile)"
   ]
  },
  {
   "cell_type": "markdown",
   "metadata": {},
   "source": [
    "##### Price"
   ]
  },
  {
   "cell_type": "code",
   "execution_count": 7,
   "metadata": {
    "ExecuteTime": {
     "end_time": "2020-05-29T02:19:07.218613Z",
     "start_time": "2020-05-29T02:19:07.205664Z"
    }
   },
   "outputs": [
    {
     "name": "stdout",
     "output_type": "stream",
     "text": [
      "$23\n"
     ]
    }
   ],
   "source": [
    "ex_price = ex_tile.find('span', class_ = 'fw--bold').get_text(strip = True)\n",
    "print(ex_price)"
   ]
  },
  {
   "cell_type": "code",
   "execution_count": 63,
   "metadata": {
    "ExecuteTime": {
     "end_time": "2020-05-29T03:18:03.223832Z",
     "start_time": "2020-05-29T03:18:03.214331Z"
    }
   },
   "outputs": [
    {
     "data": {
      "text/plain": [
       "23"
      ]
     },
     "execution_count": 63,
     "metadata": {},
     "output_type": "execute_result"
    }
   ],
   "source": [
    "def get_price(tile):\n",
    "    try:\n",
    "        # Skip the dollar sign and return the rest of the string as an int\n",
    "        return int(tile.find('span', class_ = 'fw--bold').get_text(strip = True)[1:])\n",
    "    except:\n",
    "        None\n",
    "\n",
    "get_price(ex_tile)"
   ]
  },
  {
   "cell_type": "markdown",
   "metadata": {},
   "source": [
    "##### Size"
   ]
  },
  {
   "cell_type": "code",
   "execution_count": 8,
   "metadata": {
    "ExecuteTime": {
     "end_time": "2020-05-29T02:19:07.234378Z",
     "start_time": "2020-05-29T02:19:07.224490Z"
    }
   },
   "outputs": [
    {
     "name": "stdout",
     "output_type": "stream",
     "text": [
      "Size: XXL\n"
     ]
    }
   ],
   "source": [
    "ex_size = ex_tile.find('a', class_ = 'tile__details__pipe__size').get_text(strip = True)\n",
    "print(ex_size)"
   ]
  },
  {
   "cell_type": "code",
   "execution_count": 52,
   "metadata": {
    "ExecuteTime": {
     "end_time": "2020-05-29T03:13:58.513211Z",
     "start_time": "2020-05-29T03:13:58.503655Z"
    }
   },
   "outputs": [
    {
     "data": {
      "text/plain": [
       "'Size: XXL'"
      ]
     },
     "execution_count": 52,
     "metadata": {},
     "output_type": "execute_result"
    }
   ],
   "source": [
    "def get_size(tile):\n",
    "    try:\n",
    "        return tile.find('a', class_ = 'tile__details__pipe__size').get_text(strip = True)\n",
    "    except:\n",
    "        return None\n",
    "\n",
    "get_size(ex_tile)"
   ]
  },
  {
   "cell_type": "markdown",
   "metadata": {},
   "source": [
    "##### Brand"
   ]
  },
  {
   "cell_type": "code",
   "execution_count": 9,
   "metadata": {
    "ExecuteTime": {
     "end_time": "2020-05-29T02:19:07.247588Z",
     "start_time": "2020-05-29T02:19:07.239616Z"
    }
   },
   "outputs": [
    {
     "name": "stdout",
     "output_type": "stream",
     "text": [
      "American Eagle Outfitters\n"
     ]
    }
   ],
   "source": [
    "ex_brand = ex_tile.find('a', class_ = 'tile__details__pipe__brand').get_text(strip = True)\n",
    "print(ex_brand)"
   ]
  },
  {
   "cell_type": "code",
   "execution_count": 55,
   "metadata": {
    "ExecuteTime": {
     "end_time": "2020-05-29T03:14:27.086539Z",
     "start_time": "2020-05-29T03:14:27.076785Z"
    }
   },
   "outputs": [
    {
     "data": {
      "text/plain": [
       "'American Eagle Outfitters'"
      ]
     },
     "execution_count": 55,
     "metadata": {},
     "output_type": "execute_result"
    }
   ],
   "source": [
    "def get_brand(tile):\n",
    "    try:\n",
    "        return tile.find('a', class_ = 'tile__details__pipe__brand').get_text(strip = True)\n",
    "    except:\n",
    "        return None\n",
    "\n",
    "get_brand(ex_tile)"
   ]
  },
  {
   "cell_type": "markdown",
   "metadata": {},
   "source": [
    "##### Image URL"
   ]
  },
  {
   "cell_type": "code",
   "execution_count": 10,
   "metadata": {
    "ExecuteTime": {
     "end_time": "2020-05-29T02:19:07.260090Z",
     "start_time": "2020-05-29T02:19:07.251700Z"
    }
   },
   "outputs": [
    {
     "name": "stdout",
     "output_type": "stream",
     "text": [
      "https://di2ponv0v5otw.cloudfront.net/posts/2020/04/25/5ea49b5888cce33ce1cf3a07/s_5ea49b6ecb692c6ec7629658.jpg\n"
     ]
    }
   ],
   "source": [
    "ex_img = ex_tile.find('img').get('data-src')\n",
    "print(ex_img)"
   ]
  },
  {
   "cell_type": "code",
   "execution_count": 54,
   "metadata": {
    "ExecuteTime": {
     "end_time": "2020-05-29T03:14:18.863465Z",
     "start_time": "2020-05-29T03:14:18.848790Z"
    }
   },
   "outputs": [
    {
     "data": {
      "text/plain": [
       "True"
      ]
     },
     "execution_count": 54,
     "metadata": {},
     "output_type": "execute_result"
    }
   ],
   "source": [
    "def get_img(tile):\n",
    "    try:\n",
    "        return tile.find('img').get('data-src')\n",
    "    except:\n",
    "        return None\n",
    "\n",
    "# Check if the result of the function is the same\n",
    "# as the link above via copy and paste\n",
    "get_img(ex_tile) == 'https://di2ponv0v5otw.cloudfront.net/posts/2020/04/25/5ea49b5888cce33ce1cf3a07/s_5ea49b6ecb692c6ec7629658.jpg'"
   ]
  },
  {
   "cell_type": "markdown",
   "metadata": {},
   "source": [
    "### Checking If the Functions Work on Other Tiles For Consistency"
   ]
  },
  {
   "cell_type": "code",
   "execution_count": 14,
   "metadata": {
    "ExecuteTime": {
     "end_time": "2020-05-29T02:26:22.845759Z",
     "start_time": "2020-05-29T02:26:22.838260Z"
    }
   },
   "outputs": [
    {
     "name": "stdout",
     "output_type": "stream",
     "text": [
      "<div class=\"tile col-x12 col-l6 col-s8\">\n",
      " <div class=\"card card--small\">\n",
      "  <a class=\"tile__covershot\" data-et-element-type=\"image\" data-et-name=\"listing\" data-et-prop-listing_id=\"5ece9c6ee131649eb0693909\" data-et-prop-location=\"listing_tile\" data-et-prop-unit_position=\"1\" href=\"/listing/USC-sweat-headband-5ece9c6ee131649eb0693909\">\n",
      "   <div class=\"img__container img__container--square\">\n",
      "    <img alt=\"USC sweat headband\" data-src=\"https://di2ponv0v5otw.cloudfront.net/posts/2020/05/27/5ece9c6ee131649eb0693909/s_5ece9c73ac97021630c0d9b3.jpg\" src=\"https://di2ponv0v5otw.cloudfront.net/posts/2020/05/27/5ece9c6ee131649eb0693909/s_5ece9c73ac97021630c0d9b3.jpg\"/>\n",
      "   </div>\n",
      "   <!-- -->\n",
      "  </a>\n",
      "  <div class=\"item__details\">\n",
      "   <div class=\"title__condition__container\">\n",
      "    <a class=\"tile__title tc--b\" data-et-element-type=\"link\" data-et-name=\"listing\" data-et-prop-listing_id=\"5ece9c6ee131649eb0693909\" data-et-prop-location=\"listing_tile\" data-et-prop-unit_position=\"1\" href=\"/listing/USC-sweat-headband-5ece9c6ee131649eb0693909\">\n",
      "     USC sweat headband\n",
      "    </a>\n",
      "    <!-- -->\n",
      "   </div>\n",
      "   <div class=\"m--t--1\">\n",
      "    <span class=\"p--t--1 fw--bold\">\n",
      "     $8\n",
      "    </span>\n",
      "    <span class=\"p--l--1 tc--lg td--lt\">\n",
      "     $0\n",
      "    </span>\n",
      "   </div>\n",
      "   <div class=\"m--t--1\">\n",
      "    <a class=\"tile__details__pipe__size ellipses\" href=\"/category/Men-Accessories?size=OS\">\n",
      "     Size: OS\n",
      "    </a>\n",
      "    <a class=\"tile__details__pipe__brand ellipses\" data-et-name=\"listing_brand\" data-et-prop-location=\"listing_tile\" href=\"/brand/USC\" style=\"width:calc(100% - 9ch);\">\n",
      "     USC\n",
      "    </a>\n",
      "   </div>\n",
      "  </div>\n",
      "  <a class=\"tile__creator\" data-et-name=\"seller\" data-et-prop-location=\"listing_tile\" href=\"/closet/imjacqueline\">\n",
      "   <img alt=\"imjacqueline\" class=\"user-image user-image--xs\" src=\"https://dtpmhvbsmffsz.cloudfront.net/users/2017/04/10/52dc8c68de4f28066908d38d/t_58ec059da457c809360544e3.jpg\"/>\n",
      "   <span class=\"tc--g m--l--1\">\n",
      "    imjacqueline\n",
      "   </span>\n",
      "  </a>\n",
      "  <div class=\"social-action-bar tile__social-actions\">\n",
      "   <div class=\"d--fl ai--c cursor--pointer social-action-bar__action social-action-bar__like\" data-et-element-type=\"button\" data-et-name=\"like\" data-et-prop-listing_id=\"5ece9c6ee131649eb0693909\">\n",
      "    <i class=\"icon as--c like btn__icon\">\n",
      "    </i>\n",
      "    <!-- -->\n",
      "    <!-- -->\n",
      "   </div>\n",
      "   <a class=\"social-action-bar__action social-action-bar__comment\" data-et-element-type=\"button\" data-et-name=\"comment\" data-et-prop-listing_id=\"5ece9c6ee131649eb0693909\">\n",
      "    <i class=\"icon comment-gray btn__icon\">\n",
      "    </i>\n",
      "    <!-- -->\n",
      "   </a>\n",
      "   <div class=\"d--fl ai--c social-action-bar__action social-action-bar__share\" data-et-element-type=\"button\" data-et-name=\"share\" data-et-prop-listing_id=\"5ece9c6ee131649eb0693909\">\n",
      "    <i class=\"icon share-gray-large\">\n",
      "    </i>\n",
      "    <!-- -->\n",
      "   </div>\n",
      "  </div>\n",
      " </div>\n",
      "</div>\n",
      "\n"
     ]
    }
   ],
   "source": [
    "ex_tile_1 = tiles[1]\n",
    "print(ex_tile_1.prettify())"
   ]
  },
  {
   "cell_type": "code",
   "execution_count": 31,
   "metadata": {
    "ExecuteTime": {
     "end_time": "2020-05-29T02:53:11.170745Z",
     "start_time": "2020-05-29T02:53:11.160117Z"
    }
   },
   "outputs": [
    {
     "data": {
      "text/plain": [
       "'USC sweat headband'"
      ]
     },
     "execution_count": 31,
     "metadata": {},
     "output_type": "execute_result"
    }
   ],
   "source": [
    "get_title(ex_tile_1)"
   ]
  },
  {
   "cell_type": "code",
   "execution_count": 32,
   "metadata": {
    "ExecuteTime": {
     "end_time": "2020-05-29T02:53:23.874001Z",
     "start_time": "2020-05-29T02:53:23.863633Z"
    }
   },
   "outputs": [
    {
     "data": {
      "text/plain": [
       "'imjacqueline'"
      ]
     },
     "execution_count": 32,
     "metadata": {},
     "output_type": "execute_result"
    }
   ],
   "source": [
    "get_seller(ex_tile_1)"
   ]
  },
  {
   "cell_type": "code",
   "execution_count": 33,
   "metadata": {
    "ExecuteTime": {
     "end_time": "2020-05-29T02:53:34.597854Z",
     "start_time": "2020-05-29T02:53:34.591013Z"
    }
   },
   "outputs": [
    {
     "data": {
      "text/plain": [
       "'$8'"
      ]
     },
     "execution_count": 33,
     "metadata": {},
     "output_type": "execute_result"
    }
   ],
   "source": [
    "get_price(ex_tile_1)"
   ]
  },
  {
   "cell_type": "code",
   "execution_count": 34,
   "metadata": {
    "ExecuteTime": {
     "end_time": "2020-05-29T02:53:44.378586Z",
     "start_time": "2020-05-29T02:53:44.369898Z"
    }
   },
   "outputs": [
    {
     "data": {
      "text/plain": [
       "'Size: OS'"
      ]
     },
     "execution_count": 34,
     "metadata": {},
     "output_type": "execute_result"
    }
   ],
   "source": [
    "get_size(ex_tile_1)"
   ]
  },
  {
   "cell_type": "code",
   "execution_count": 35,
   "metadata": {
    "ExecuteTime": {
     "end_time": "2020-05-29T02:53:57.205428Z",
     "start_time": "2020-05-29T02:53:57.196546Z"
    }
   },
   "outputs": [
    {
     "data": {
      "text/plain": [
       "'USC'"
      ]
     },
     "execution_count": 35,
     "metadata": {},
     "output_type": "execute_result"
    }
   ],
   "source": [
    "get_brand(ex_tile_1)"
   ]
  },
  {
   "cell_type": "code",
   "execution_count": 38,
   "metadata": {
    "ExecuteTime": {
     "end_time": "2020-05-29T02:54:52.581819Z",
     "start_time": "2020-05-29T02:54:52.574687Z"
    }
   },
   "outputs": [
    {
     "name": "stdout",
     "output_type": "stream",
     "text": [
      "https://www.poshmark.com/listing/USC-sweat-headband-5ece9c6ee131649eb0693909\n"
     ]
    }
   ],
   "source": [
    "print(f'https://www.poshmark.com{get_page_url(ex_tile_1)}')"
   ]
  },
  {
   "cell_type": "code",
   "execution_count": 40,
   "metadata": {
    "ExecuteTime": {
     "end_time": "2020-05-29T02:55:54.907022Z",
     "start_time": "2020-05-29T02:55:54.900727Z"
    }
   },
   "outputs": [
    {
     "name": "stdout",
     "output_type": "stream",
     "text": [
      "https://di2ponv0v5otw.cloudfront.net/posts/2020/05/27/5ece9c6ee131649eb0693909/s_5ece9c73ac97021630c0d9b3.jpg\n"
     ]
    }
   ],
   "source": [
    "print(get_img(ex_tile_1))"
   ]
  },
  {
   "cell_type": "markdown",
   "metadata": {},
   "source": [
    "That's enough testing for me! I'm sure I'm going to encounter a problem as I loop through the list of 46 other entries, but let's go for it!"
   ]
  },
  {
   "cell_type": "markdown",
   "metadata": {},
   "source": [
    "#### Populating a DataFrame with 48 Poshmark Items"
   ]
  },
  {
   "cell_type": "code",
   "execution_count": null,
   "metadata": {},
   "outputs": [],
   "source": []
  },
  {
   "cell_type": "code",
   "execution_count": 64,
   "metadata": {
    "ExecuteTime": {
     "end_time": "2020-05-29T03:18:07.907370Z",
     "start_time": "2020-05-29T03:18:07.839302Z"
    }
   },
   "outputs": [
    {
     "data": {
      "text/html": [
       "<div>\n",
       "<style scoped>\n",
       "    .dataframe tbody tr th:only-of-type {\n",
       "        vertical-align: middle;\n",
       "    }\n",
       "\n",
       "    .dataframe tbody tr th {\n",
       "        vertical-align: top;\n",
       "    }\n",
       "\n",
       "    .dataframe thead th {\n",
       "        text-align: right;\n",
       "    }\n",
       "</style>\n",
       "<table border=\"1\" class=\"dataframe\">\n",
       "  <thead>\n",
       "    <tr style=\"text-align: right;\">\n",
       "      <th></th>\n",
       "      <th>Title</th>\n",
       "      <th>Seller</th>\n",
       "      <th>Price</th>\n",
       "      <th>Size</th>\n",
       "      <th>Brand</th>\n",
       "      <th>Page URL</th>\n",
       "      <th>Image URL</th>\n",
       "    </tr>\n",
       "  </thead>\n",
       "  <tbody>\n",
       "    <tr>\n",
       "      <th>0</th>\n",
       "      <td>Orange AMerican Eagle hoodie</td>\n",
       "      <td>michyxx3</td>\n",
       "      <td>23</td>\n",
       "      <td>Size: XXL</td>\n",
       "      <td>American Eagle Outfitters</td>\n",
       "      <td>/listing/Orange-AMerican-Eagle-hoodie-5ea49b58...</td>\n",
       "      <td>https://di2ponv0v5otw.cloudfront.net/posts/202...</td>\n",
       "    </tr>\n",
       "    <tr>\n",
       "      <th>1</th>\n",
       "      <td>USC sweat headband</td>\n",
       "      <td>imjacqueline</td>\n",
       "      <td>8</td>\n",
       "      <td>Size: OS</td>\n",
       "      <td>USC</td>\n",
       "      <td>/listing/USC-sweat-headband-5ece9c6ee131649eb0...</td>\n",
       "      <td>https://di2ponv0v5otw.cloudfront.net/posts/202...</td>\n",
       "    </tr>\n",
       "    <tr>\n",
       "      <th>2</th>\n",
       "      <td>Buffalo David Bitton XL distressed green Vneck...</td>\n",
       "      <td>fashionrunway4</td>\n",
       "      <td>16</td>\n",
       "      <td>Size: XL</td>\n",
       "      <td>Buffalo David Bitton</td>\n",
       "      <td>/listing/Buffalo-David-Bitton-XL-distressed-gr...</td>\n",
       "      <td>https://di2ponv0v5otw.cloudfront.net/posts/201...</td>\n",
       "    </tr>\n",
       "    <tr>\n",
       "      <th>3</th>\n",
       "      <td>Nike Joyride</td>\n",
       "      <td>tracib41</td>\n",
       "      <td>100</td>\n",
       "      <td>Size: 11</td>\n",
       "      <td>Nike</td>\n",
       "      <td>/listing/Nike-Joyride-5ec944fe6f6c91e905b830f5</td>\n",
       "      <td>https://di2ponv0v5otw.cloudfront.net/posts/202...</td>\n",
       "    </tr>\n",
       "    <tr>\n",
       "      <th>4</th>\n",
       "      <td>BLEACHED RETRO NASCAR STYLE TEE</td>\n",
       "      <td>joeybrzezinski</td>\n",
       "      <td>20</td>\n",
       "      <td>Size: XL</td>\n",
       "      <td>winners circle</td>\n",
       "      <td>/listing/BLEACHED-RETRO-NASCAR-STYLE-TEE-5ecdd...</td>\n",
       "      <td>https://di2ponv0v5otw.cloudfront.net/posts/202...</td>\n",
       "    </tr>\n",
       "  </tbody>\n",
       "</table>\n",
       "</div>"
      ],
      "text/plain": [
       "                                               Title          Seller  Price  \\\n",
       "0                       Orange AMerican Eagle hoodie        michyxx3     23   \n",
       "1                                 USC sweat headband    imjacqueline      8   \n",
       "2  Buffalo David Bitton XL distressed green Vneck...  fashionrunway4     16   \n",
       "3                                       Nike Joyride        tracib41    100   \n",
       "4                    BLEACHED RETRO NASCAR STYLE TEE  joeybrzezinski     20   \n",
       "\n",
       "        Size                      Brand  \\\n",
       "0  Size: XXL  American Eagle Outfitters   \n",
       "1   Size: OS                        USC   \n",
       "2   Size: XL       Buffalo David Bitton   \n",
       "3   Size: 11                       Nike   \n",
       "4   Size: XL             winners circle   \n",
       "\n",
       "                                            Page URL  \\\n",
       "0  /listing/Orange-AMerican-Eagle-hoodie-5ea49b58...   \n",
       "1  /listing/USC-sweat-headband-5ece9c6ee131649eb0...   \n",
       "2  /listing/Buffalo-David-Bitton-XL-distressed-gr...   \n",
       "3     /listing/Nike-Joyride-5ec944fe6f6c91e905b830f5   \n",
       "4  /listing/BLEACHED-RETRO-NASCAR-STYLE-TEE-5ecdd...   \n",
       "\n",
       "                                           Image URL  \n",
       "0  https://di2ponv0v5otw.cloudfront.net/posts/202...  \n",
       "1  https://di2ponv0v5otw.cloudfront.net/posts/202...  \n",
       "2  https://di2ponv0v5otw.cloudfront.net/posts/201...  \n",
       "3  https://di2ponv0v5otw.cloudfront.net/posts/202...  \n",
       "4  https://di2ponv0v5otw.cloudfront.net/posts/202...  "
      ]
     },
     "execution_count": 64,
     "metadata": {},
     "output_type": "execute_result"
    }
   ],
   "source": [
    "titles, sellers, prices, sizes, brands, p_urls, i_urls = [], [], [], [], [], [], []\n",
    "for tile in tiles:\n",
    "    titles.append(get_title(tile))\n",
    "    sellers.append(get_seller(tile))\n",
    "    prices.append(get_price(tile))\n",
    "    sizes.append(get_size(tile))\n",
    "    brands.append(get_brand(tile))\n",
    "    p_urls.append(get_page_url(tile))\n",
    "    i_urls.append(get_img(tile))\n",
    "df = pd.DataFrame({\n",
    "    'Title': titles,\n",
    "    'Seller': sellers,\n",
    "    'Price': prices,\n",
    "    'Size': sizes,\n",
    "    'Brand': brands,\n",
    "    'Page URL': p_urls,\n",
    "    'Image URL': i_urls\n",
    "})\n",
    "\n",
    "df.head()"
   ]
  },
  {
   "cell_type": "code",
   "execution_count": 65,
   "metadata": {
    "ExecuteTime": {
     "end_time": "2020-05-29T03:18:10.464663Z",
     "start_time": "2020-05-29T03:18:10.455688Z"
    }
   },
   "outputs": [
    {
     "data": {
      "text/plain": [
       "Title        object\n",
       "Seller       object\n",
       "Price         int64\n",
       "Size         object\n",
       "Brand        object\n",
       "Page URL     object\n",
       "Image URL    object\n",
       "dtype: object"
      ]
     },
     "execution_count": 65,
     "metadata": {},
     "output_type": "execute_result"
    }
   ],
   "source": [
    "df.dtypes"
   ]
  },
  {
   "cell_type": "markdown",
   "metadata": {},
   "source": [
    "Sizes are all over the place. Are the XL shirts? Size 11... shoes, hats, pants? Will need to see if we can categorize these item pieces as we scrape."
   ]
  }
 ],
 "metadata": {
  "kernelspec": {
   "display_name": "Python 3",
   "language": "python",
   "name": "python3"
  },
  "language_info": {
   "codemirror_mode": {
    "name": "ipython",
    "version": 3
   },
   "file_extension": ".py",
   "mimetype": "text/x-python",
   "name": "python",
   "nbconvert_exporter": "python",
   "pygments_lexer": "ipython3",
   "version": "3.7.5"
  },
  "toc": {
   "base_numbering": 1,
   "nav_menu": {},
   "number_sections": true,
   "sideBar": true,
   "skip_h1_title": false,
   "title_cell": "Table of Contents",
   "title_sidebar": "Contents",
   "toc_cell": false,
   "toc_position": {},
   "toc_section_display": true,
   "toc_window_display": false
  },
  "varInspector": {
   "cols": {
    "lenName": 16,
    "lenType": 16,
    "lenVar": 40
   },
   "kernels_config": {
    "python": {
     "delete_cmd_postfix": "",
     "delete_cmd_prefix": "del ",
     "library": "var_list.py",
     "varRefreshCmd": "print(var_dic_list())"
    },
    "r": {
     "delete_cmd_postfix": ") ",
     "delete_cmd_prefix": "rm(",
     "library": "var_list.r",
     "varRefreshCmd": "cat(var_dic_list()) "
    }
   },
   "types_to_exclude": [
    "module",
    "function",
    "builtin_function_or_method",
    "instance",
    "_Feature"
   ],
   "window_display": false
  }
 },
 "nbformat": 4,
 "nbformat_minor": 2
}
